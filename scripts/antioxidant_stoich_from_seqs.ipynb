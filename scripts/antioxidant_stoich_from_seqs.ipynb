{
 "cells": [
  {
   "cell_type": "code",
   "execution_count": 1,
   "metadata": {},
   "outputs": [],
   "source": [
    "from pyteomics import *\n",
    "from Bio import SeqIO\n",
    "from pyteomics.mass import *\n",
    "from periodictable import H,C,N,O,S\n",
    "import pandas as pd"
   ]
  },
  {
   "cell_type": "code",
   "execution_count": 2,
   "metadata": {},
   "outputs": [],
   "source": [
    "\n",
    "def get_stoich_antioxi(file_location,\n",
    "                      protein_name):\n",
    "    '''\n",
    "    This function goes through each protein in the fasta file, calculates its stoichiometry, and\n",
    "    outputs a dataframe with a bunch of characteristics\n",
    "    '''\n",
    "    # get the mass per atom\n",
    "    mass_dict = {'H': H.mass, 'C': C.mass, 'N': N.mass, 'O': O.mass, 'S':S.mass}\n",
    "\n",
    "    stoichio_dicts_atoms = []\n",
    "    stoichio_dicts = []\n",
    "    seq_vals = []\n",
    "    seq_len = []\n",
    "    seq_id = []\n",
    "\n",
    "    # got through each sequence in a given file\n",
    "    for seq_record in SeqIO.parse(file_location,\n",
    "                                 'fasta'):\n",
    "        prot_sequence = str(seq_record.seq)\n",
    "#         prot_composition = Composition(prot_sequence.replace('*', ''))\n",
    "        prot_composition_atoms = Composition(prot_sequence.replace('*', ''))\n",
    "\n",
    "#         # go through counting each stoich and then get the mass composition\n",
    "#         for key_i in blank_composition:\n",
    "#             prot_composition[key_i] *= mass_dict[key_i]\n",
    "            \n",
    "        stoichio_dicts_atoms.append(prot_composition_atoms)\n",
    "#         stoichio_dicts.append(prot_composition)\n",
    "        seq_vals.append(prot_sequence)\n",
    "        seq_len.append(len(prot_sequence))\n",
    "        seq_id.append(seq_record.name)\n",
    "\n",
    "    df_test = pd.DataFrame(stoichio_dicts_atoms)\n",
    "    df_test['Gene_ID'] = seq_id\n",
    "    df_test['Sequence_Length'] = seq_len\n",
    "    df_test['Sequence'] = seq_vals\n",
    "    df_test['prot_name'] = protein_name\n",
    "    \n",
    "    return df_test\n",
    "\n",
    "def get_multiple_antiox(file_location_list,\n",
    "                        protein_name_list):\n",
    "    \n",
    "    '''\n",
    "    loops through multiple proteins to get stoich, using above function\n",
    "    '''\n",
    "    \n",
    "    df_original = get_stoich_antioxi(file_location=file_location_list[0],\n",
    "                                     protein_name = protein_name_list[0])\n",
    "    for i in range(len(file_location_list) - 1):\n",
    "        print(i + 1)\n",
    "        print(file_location_list[i + 1])\n",
    "        print(protein_name_list[i + 1])\n",
    "        df_temp = get_stoich_antioxi(file_location=file_location_list[i + 1],\n",
    "                                     protein_name = protein_name_list[i + 1])\n",
    "        df_original = df_original.append(df_temp)\n",
    "        \n",
    "    return df_original\n",
    "    "
   ]
  },
  {
   "cell_type": "code",
   "execution_count": 3,
   "metadata": {},
   "outputs": [],
   "source": [
    "# df1 = cyto_test = get_stoich_antioxi('../data/antiox_gene_name_lists/cyto_c_gene_id.fasta',\n",
    "#                       protein_name = 'cytochrome')\n",
    "# df2 = get_stoich_antioxi('../data/antiox_gene_name_lists/cat_gene_id.fasta',\n",
    "#                       protein_name = 'catalase')\n",
    "\n",
    "# df3 = df1.append(df2)\n",
    "# range(len(['../data/antiox_gene_name_lists/sod_gene_id.fasta',\n",
    "#                                          '../data/antiox_gene_name_lists/APX_gene_id.fasta',\n",
    "#                                          '../data/antiox_gene_name_lists/cat_gene_id.fasta',\n",
    "#                                          '../data/antiox_gene_name_lists/gpx_gene_id.fasta',\n",
    "#                                          '../data/antiox_gene_name_lists/cyto_c_gene_id.fasta',\n",
    "#                                          '../data/antiox_gene_name_lists/prx_gene_id.fasta']) - 1)\n",
    "\n",
    ">tr|B6DMH6|B6DMH6_9STRA Ferritin (Fragment) OS=Pseudo-nitzschia multiseries OX=37319 GN=FTN PE=1 SV=1\n",
    "MKSPFFFLSALALTLRDSSPSFATAFRLAVTRCARQGIHAPSSSSSSSSRCLVASASALA\n",
    "GPSEELLDLFNRQVTQEFTASQVYLSASIWFDQNDWEGMAAYMLAESAEEREHGLGFVDF\n",
    "ANKRNIPIELQAVPAPVSCAEWSSPEDVWQSILELEQANTRSLLNLAEAASTCHDFAVMA\n",
    "FLNPFHLQQVNEEDKIGSILAKVTDENRTPGLLRSLDVVSFLGPCLFRSV"
   ]
  },
  {
   "cell_type": "code",
   "execution_count": 6,
   "metadata": {},
   "outputs": [
    {
     "name": "stdout",
     "output_type": "stream",
     "text": [
      "1\n",
      "../data/antiox_gene_name_lists/APX_gene_id.fasta\n",
      "APX\n",
      "2\n",
      "../data/antiox_gene_name_lists/cat_gene_id.fasta\n",
      "CAT\n",
      "3\n",
      "../data/antiox_gene_name_lists/gpx_gene_id.fasta\n",
      "GPX\n",
      "4\n",
      "../data/antiox_gene_name_lists/cyto_c_gene_id.fasta\n",
      "Cyto C\n",
      "5\n",
      "../data/antiox_gene_name_lists/prx_gene_id.fasta\n",
      "Prx\n",
      "6\n",
      "../data/pseudonitzschia_ferritin.fasta\n",
      "Ferritin\n"
     ]
    }
   ],
   "source": [
    "all_antiox_stoich = get_multiple_antiox(file_location_list = ['../data/antiox_gene_name_lists/sod_gene_id.fasta',\n",
    "                                         '../data/antiox_gene_name_lists/APX_gene_id.fasta',\n",
    "                                         '../data/antiox_gene_name_lists/cat_gene_id.fasta',\n",
    "                                         '../data/antiox_gene_name_lists/gpx_gene_id.fasta',\n",
    "                                         '../data/antiox_gene_name_lists/cyto_c_gene_id.fasta',\n",
    "                                         '../data/antiox_gene_name_lists/prx_gene_id.fasta',\n",
    "                                                             '../data/pseudonitzschia_ferritin.fasta'],\n",
    "                        protein_name_list = ['SOD',\n",
    "                                            'APX',\n",
    "                                            'CAT',\n",
    "                                            'GPX',\n",
    "                                            'Cyto C',\n",
    "                                            'Prx',\n",
    "                                            'Ferritin'])"
   ]
  },
  {
   "cell_type": "code",
   "execution_count": 7,
   "metadata": {},
   "outputs": [],
   "source": [
    "all_antiox_stoich.to_csv(\"../data/tara_stoichiometry_antiox.csv\")"
   ]
  },
  {
   "cell_type": "code",
   "execution_count": 119,
   "metadata": {},
   "outputs": [
    {
     "name": "stdout",
     "output_type": "stream",
     "text": [
      "echo\n"
     ]
    }
   ],
   "source": []
  },
  {
   "cell_type": "code",
   "execution_count": null,
   "metadata": {},
   "outputs": [],
   "source": []
  },
  {
   "cell_type": "code",
   "execution_count": null,
   "metadata": {},
   "outputs": [],
   "source": []
  },
  {
   "cell_type": "code",
   "execution_count": null,
   "metadata": {},
   "outputs": [],
   "source": []
  },
  {
   "cell_type": "code",
   "execution_count": null,
   "metadata": {},
   "outputs": [],
   "source": []
  },
  {
   "cell_type": "code",
   "execution_count": null,
   "metadata": {},
   "outputs": [],
   "source": []
  },
  {
   "cell_type": "code",
   "execution_count": null,
   "metadata": {},
   "outputs": [],
   "source": []
  }
 ],
 "metadata": {
  "kernelspec": {
   "display_name": "Python 3",
   "language": "python",
   "name": "python3"
  },
  "language_info": {
   "codemirror_mode": {
    "name": "ipython",
    "version": 3
   },
   "file_extension": ".py",
   "mimetype": "text/x-python",
   "name": "python",
   "nbconvert_exporter": "python",
   "pygments_lexer": "ipython3",
   "version": "3.6.5"
  }
 },
 "nbformat": 4,
 "nbformat_minor": 2
}
